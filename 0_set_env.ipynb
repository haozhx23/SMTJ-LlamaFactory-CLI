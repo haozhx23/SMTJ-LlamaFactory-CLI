{
 "cells": [
  {
   "cell_type": "markdown",
   "metadata": {},
   "source": [
    "## Download s5cmd for high-performance s3 transfer"
   ]
  },
  {
   "cell_type": "code",
   "execution_count": null,
   "metadata": {
    "tags": []
   },
   "outputs": [],
   "source": [
    "!curl -L https://github.com/peak/s5cmd/releases/download/v2.2.2/s5cmd_2.2.2_Linux-64bit.tar.gz | tar -xz s5cmd"
   ]
  },
  {
   "cell_type": "code",
   "execution_count": null,
   "metadata": {
    "tags": []
   },
   "outputs": [],
   "source": [
    "local_storage_dir='/opt/dlami/nvme/tmp'"
   ]
  },
  {
   "cell_type": "markdown",
   "metadata": {},
   "source": [
    "## Download model from huggingface"
   ]
  },
  {
   "cell_type": "code",
   "execution_count": null,
   "metadata": {
    "tags": []
   },
   "outputs": [],
   "source": [
    "!pip install huggingface-hub"
   ]
  },
  {
   "cell_type": "code",
   "execution_count": null,
   "metadata": {
    "scrolled": true,
    "tags": []
   },
   "outputs": [],
   "source": [
    "!huggingface-cli download meta-llama/Llama-3.2-3B-Instruct --local-dir $local_storage_dir/Llama-3.2-3B-Instruct --local-dir-use-symlinks False --cache-dir $local_storage_dir/tmp-cache/ --exclude \"*.pth\""
   ]
  },
  {
   "cell_type": "code",
   "execution_count": null,
   "metadata": {},
   "outputs": [],
   "source": [
    "!huggingface-cli download meta-llama/Llama-3.2-11B-Vision-Instruct --local-dir $local_storage_dir/Llama-3.2-11B-Vision-Instruct --local-dir-use-symlinks False --cache-dir $local_storage_dir/tmp-cache/ --exclude \"*.pth\""
   ]
  },
  {
   "cell_type": "code",
   "execution_count": null,
   "metadata": {},
   "outputs": [],
   "source": [
    "!huggingface-cli download meta-llama/Llama-3.2-1B-Instruct --local-dir $local_storage_dir/Llama-3.2-1B-Instruct --local-dir-use-symlinks False --cache-dir $local_storage_dir/tmp-cache/ --exclude \"*.pth\""
   ]
  },
  {
   "cell_type": "code",
   "execution_count": null,
   "metadata": {},
   "outputs": [],
   "source": [
    "!./s5cmd cp $local_storage_dir/Llama-3.2-11B-Vision-Instruct/ s3://llm-artifacts-us-east-1/Llama-3.2-11B-Vision-Instruct/\n"
   ]
  },
  {
   "cell_type": "code",
   "execution_count": null,
   "metadata": {},
   "outputs": [],
   "source": []
  }
 ],
 "metadata": {
  "kernelspec": {
   "display_name": "pydev2",
   "language": "python",
   "name": "python3"
  },
  "language_info": {
   "codemirror_mode": {
    "name": "ipython",
    "version": 3
   },
   "file_extension": ".py",
   "mimetype": "text/x-python",
   "name": "python",
   "nbconvert_exporter": "python",
   "pygments_lexer": "ipython3",
   "version": "3.10.14"
  }
 },
 "nbformat": 4,
 "nbformat_minor": 4
}
