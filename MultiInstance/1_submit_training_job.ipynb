{
 "cells": [
  {
   "cell_type": "code",
   "execution_count": null,
   "metadata": {
    "scrolled": true,
    "tags": []
   },
   "outputs": [],
   "source": [
    "# install once\n",
    "# !pip install -U boto3 sagemaker awscli\n",
    "# restart jupyter kernel"
   ]
  },
  {
   "cell_type": "code",
   "execution_count": null,
   "metadata": {
    "tags": []
   },
   "outputs": [],
   "source": [
    "import sagemaker\n",
    "from sagemaker import get_execution_role\n",
    "\n",
    "sess = sagemaker.Session()\n",
    "# role = get_execution_role()\n",
    "role = 'arn:aws:iam::633205212955:role/service-role/AmazonSageMaker-ExecutionRole-20220923T160810'\n",
    "sagemaker_default_bucket = sess.default_bucket()\n",
    "region = sess.boto_session.region_name"
   ]
  },
  {
   "cell_type": "code",
   "execution_count": null,
   "metadata": {
    "scrolled": true,
    "tags": []
   },
   "outputs": [],
   "source": [
    "from sagemaker.pytorch import PyTorch\n",
    "from sagemaker.estimator import Estimator\n",
    "\n",
    "# https://github.com/aws/deep-learning-containers/blob/master/available_images.md\n",
    "# image_uri = f'763104351884.dkr.ecr.{region}.amazonaws.com/pytorch-training:2.2.0-gpu-py310-cu121-ubuntu20.04-sagemaker'\n",
    "image_uri = f'763104351884.dkr.ecr.{region}.amazonaws.com/pytorch-training:2.3.0-gpu-py311-cu121-ubuntu20.04-sagemaker'\n",
    "# image_uri = f'763104351884.dkr.ecr.{region}.amazonaws.com/pytorch-training:2.4.0-gpu-py311-cu124-ubuntu22.04-sagemaker'\n",
    "# image_uri = f'763104351884.dkr.ecr.{region}.amazonaws.com/pytorch-training:2.5.1-gpu-py311-cu124-ubuntu22.04-sagemaker'\n",
    "\n",
    "# instance_type = \"ml.g5.2xlarge\"    # 1 * A10g (24G/GPU)\n",
    "instance_type = \"ml.g5.12xlarge\"     # 4 * A10g (24G/GPU)\n",
    "# instance_type = \"ml.g5.48xlarge\"    # 8 * A10g (24G/GPU)\n",
    "# instance_type = \"ml.p4d.24xlarge\"   # 8 * A100 (40G/GPU)\n",
    "# instance_type = \"ml.p5.48xlarge\"    # 8 * H100 (80G/GPU)\n",
    "# instance_type = \"ml.g6e.48xlarge\"    # 8 * L40s (80G/GPU)\n",
    "\n",
    "instance_count = 2                  # 1 or Multi-node\n",
    "\n",
    "llamafactory_yaml = 'llama3_full_sft'\n",
    "envs = {\n",
    "    'MODEL_ID_OR_S3_PATH': f's3://llm-artifacts-us-east-1/Llama-3.2-3B-Instruct/*',\n",
    "    'MODEL_SAVE_PATH_S3': f's3://{sagemaker_default_bucket}/output-model/241201/',\n",
    "    'CONF_YAML_NAME': f'{llamafactory_yaml}.yaml'\n",
    "}\n",
    "\n",
    "hypers = {\n",
    "}\n",
    "\n",
    "smp_estimator = Estimator(role=role,\n",
    "    sagemaker_session=sess,\n",
    "    base_job_name=llamafactory_yaml.replace('_','-'),\n",
    "    entry_point=\"estimator_entry.py\",\n",
    "    source_dir='submit_src/',\n",
    "    instance_type=instance_type,\n",
    "    instance_count=instance_count,\n",
    "    environment=envs,\n",
    "    hyperparameters=hypers,\n",
    "    image_uri=image_uri,\n",
    "    max_run=7200,\n",
    "    keep_alive_period_in_seconds=1800,\n",
    "    disable_output_compression=True,\n",
    ")\n",
    "\n",
    "smp_estimator.fit()"
   ]
  },
  {
   "cell_type": "code",
   "execution_count": null,
   "metadata": {},
   "outputs": [],
   "source": []
  },
  {
   "cell_type": "code",
   "execution_count": null,
   "metadata": {},
   "outputs": [],
   "source": []
  }
 ],
 "metadata": {
  "kernelspec": {
   "display_name": "pydev2",
   "language": "python",
   "name": "python3"
  },
  "language_info": {
   "codemirror_mode": {
    "name": "ipython",
    "version": 3
   },
   "file_extension": ".py",
   "mimetype": "text/x-python",
   "name": "python",
   "nbconvert_exporter": "python",
   "pygments_lexer": "ipython3",
   "version": "3.10.14"
  }
 },
 "nbformat": 4,
 "nbformat_minor": 4
}
